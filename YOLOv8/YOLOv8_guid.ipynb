{
 "cells": [
  {
   "cell_type": "markdown",
   "metadata": {},
   "source": [
    "## YOLOv8 가이드라인"
   ]
  },
  {
   "cell_type": "markdown",
   "metadata": {},
   "source": [
    "## 필요 라이브러리 한번에 다운로드"
   ]
  },
  {
   "cell_type": "code",
   "execution_count": null,
   "metadata": {
    "scrolled": true
   },
   "outputs": [],
   "source": [
    "!pip install -r ../requirements.txt"
   ]
  },
  {
   "cell_type": "markdown",
   "metadata": {},
   "source": [
    "## YOLOv8"
   ]
  },
  {
   "cell_type": "code",
   "execution_count": null,
   "metadata": {
    "id": "9DV_I5pdgru7"
   },
   "outputs": [],
   "source": [
    "import ultralytics\n",
    "ultralytics.checks()"
   ]
  },
  {
   "cell_type": "code",
   "execution_count": null,
   "metadata": {
    "id": "2L_sPhxLdc8r"
   },
   "outputs": [],
   "source": [
    "from ultralytics import YOLO"
   ]
  },
  {
   "cell_type": "code",
   "execution_count": null,
   "metadata": {
    "id": "XgYjM3urKC0Y"
   },
   "outputs": [],
   "source": [
    "import os\n",
    "\n",
    "path = os.getcwd()\n",
    "print(\"현재 작업 디렉토리:\", path)"
   ]
  },
  {
   "cell_type": "code",
   "execution_count": null,
   "metadata": {
    "id": "_hSOsEw-iLgS"
   },
   "outputs": [],
   "source": [
    "!cat ./data/SoClean_data/data.yaml"
   ]
  },
  {
   "cell_type": "markdown",
   "metadata": {
    "id": "c5e_5jbcKC0a"
   },
   "source": [
    "## 모델 학습"
   ]
  },
  {
   "cell_type": "code",
   "execution_count": null,
   "metadata": {
    "id": "Hru7umrPeamQ"
   },
   "outputs": [],
   "source": [
    "# raw\n",
    "model = YOLO('yolov8l.pt') # 여기 수정해서 모델 수정 가능\n",
    "print(os.path.join(path,'data/SoClean_data/data.yaml'))\n",
    "\n",
    "# epoch 조절 (예시는 1로 설정)\n",
    "model.train(data=os.path.join(path,'data/SoClean_data/data.yaml'), epochs=1, batch=16, imgsz=640, workers=0, save_period=5)"
   ]
  },
  {
   "cell_type": "code",
   "execution_count": null,
   "metadata": {
    "id": "kZ6dic_VhQo5",
    "scrolled": false
   },
   "outputs": [],
   "source": [
    "print(type(model.names), len(model.names))\n",
    "print(model.names)"
   ]
  },
  {
   "cell_type": "markdown",
   "metadata": {
    "id": "TMEVH-FBKC0b"
   },
   "source": [
    "## 학습 멈췄을때 재개하는 코드"
   ]
  },
  {
   "cell_type": "code",
   "execution_count": null,
   "metadata": {
    "id": "_iwcs_pNKC0b",
    "scrolled": true
   },
   "outputs": [],
   "source": [
    "# from ultralytics import YOLO\n",
    "\n",
    "# # Load a model\n",
    "# model = YOLO('./runs/detect/train/weights/last.pt') # 현재 몇 번째 train인지 확인 후 수정 예) /train/ -> /train16/\n",
    "\n",
    "# # Resume training\n",
    "# results = model.train(resume=True)"
   ]
  },
  {
   "cell_type": "markdown",
   "metadata": {
    "id": "CI8BMYOGKC0b"
   },
   "source": [
    "## 모델 예측"
   ]
  },
  {
   "cell_type": "code",
   "execution_count": null,
   "metadata": {
    "id": "a97AiXI_eL3k"
   },
   "outputs": [],
   "source": [
    "results = model.predict(source = os.path.join(path,'data/SoClean_data/test/images'), save=True)"
   ]
  }
 ],
 "metadata": {
  "accelerator": "GPU",
  "colab": {
   "gpuType": "T4",
   "provenance": []
  },
  "kernelspec": {
   "display_name": "Python 3 (ipykernel)",
   "language": "python",
   "name": "python3"
  },
  "language_info": {
   "codemirror_mode": {
    "name": "ipython",
    "version": 3
   },
   "file_extension": ".py",
   "mimetype": "text/x-python",
   "name": "python",
   "nbconvert_exporter": "python",
   "pygments_lexer": "ipython3",
   "version": "3.11.1"
  }
 },
 "nbformat": 4,
 "nbformat_minor": 1
}
