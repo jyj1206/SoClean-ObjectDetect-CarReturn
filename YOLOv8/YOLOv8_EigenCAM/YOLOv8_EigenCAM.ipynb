{
 "cells": [
  {
   "cell_type": "code",
   "execution_count": null,
   "id": "57a8a62a",
   "metadata": {},
   "outputs": [],
   "source": [
    "import ultralytics\n",
    "from ultralytics import YOLO\n",
    "import warnings\n",
    "warnings.filterwarnings('ignore')\n",
    "warnings.simplefilter('ignore')\n",
    "import torch    \n",
    "import cv2\n",
    "import numpy as np\n",
    "import matplotlib.pyplot as plt\n",
    "import requests\n",
    "import torchvision.transforms as transforms\n",
    "from PIL import Image\n",
    "import io\n",
    "import os\n",
    "import shutil\n",
    "\n",
    "plt.rcParams[\"figure.figsize\"] = [3.0, 3.0]\n",
    "\n",
    "from yolo_cam.eigen_cam import EigenCAM\n",
    "from yolo_cam.utils.image import show_cam_on_image, scale_cam_image"
   ]
  },
  {
   "cell_type": "markdown",
   "id": "02af70dc",
   "metadata": {},
   "source": [
    "## one image\n",
    "#### -You may get an innaccurate output at first. Re-running the cell will do the trick"
   ]
  },
  {
   "cell_type": "code",
   "execution_count": null,
   "id": "bb0eaea6",
   "metadata": {},
   "outputs": [],
   "source": [
    "model = YOLO('../../model/weights/yolov8_weights.pt')"
   ]
  },
  {
   "cell_type": "code",
   "execution_count": null,
   "id": "043867a0",
   "metadata": {
    "scrolled": true
   },
   "outputs": [],
   "source": [
    "img = cv2.imread('images/test.jpg')\n",
    "img = cv2.resize(img, (640, 640))\n",
    "rgb_img = img.copy()\n",
    "img = np.float32(img) / 255"
   ]
  },
  {
   "cell_type": "code",
   "execution_count": null,
   "id": "29bc4844",
   "metadata": {},
   "outputs": [],
   "source": [
    "# 레이어 설정\n",
    "target_layers =[model.model.model[-4]]"
   ]
  },
  {
   "cell_type": "code",
   "execution_count": null,
   "id": "985e6de1",
   "metadata": {},
   "outputs": [],
   "source": [
    "cam = EigenCAM(model, target_layers,task='od')\n",
    "grayscale_cam = cam(rgb_img)[0, :, :]\n",
    "cam_image = show_cam_on_image(img, grayscale_cam, use_rgb=True)\n",
    "plt.imshow(cam_image)\n",
    "plt.show()"
   ]
  },
  {
   "cell_type": "code",
   "execution_count": null,
   "id": "04c75316",
   "metadata": {},
   "outputs": [],
   "source": [
    "g_scale = np.stack([grayscale_cam] * 3, axis=2)\n",
    "plt.imshow(g_scale)"
   ]
  },
  {
   "cell_type": "code",
   "execution_count": null,
   "id": "1bad23e3",
   "metadata": {},
   "outputs": [],
   "source": [
    "im = cv2.cvtColor(rgb_img, cv2.COLOR_RGB2BGR)\n",
    "Image.fromarray(np.hstack((im, cam_image)))"
   ]
  },
  {
   "cell_type": "markdown",
   "id": "86f5b108",
   "metadata": {},
   "source": [
    "## multiple images"
   ]
  },
  {
   "cell_type": "code",
   "execution_count": null,
   "id": "fee451c4",
   "metadata": {
    "scrolled": false
   },
   "outputs": [],
   "source": [
    "# model load\n",
    "model = YOLO('../../model/weights/yolov8_weights.pt')\n",
    "\n",
    "# 이미지 파일이 들어있는 폴더 경로 설정\n",
    "input_folder = './images'\n",
    "\n",
    "# 결과 이미지를 저장할 폴더 경로 설정\n",
    "output_folder = './result'\n",
    "\n",
    "if os.path.exists(output_folder):\n",
    "    shutil.rmtree(output_folder)\n",
    "    # make dir if not exist\n",
    "    os.makedirs(output_folder, exist_ok=True)\n",
    "\n",
    "# input_folder에 있는 모든 이미지 파일들을 가져오기\n",
    "image_files = os.listdir(input_folder)\n",
    "\n",
    "# 레이어 설정\n",
    "target_layers = [model.model.model[-4]]\n",
    "\n",
    "for image_file in image_files:\n",
    "    # 이미지 파일 경로 생성\n",
    "    image_path = os.path.join(input_folder, image_file)\n",
    "    \n",
    "    # 이미지 불러오기\n",
    "    img = cv2.imread(image_path)\n",
    "    img = cv2.resize(img, (640, 640))\n",
    "    rgb_img = img.copy()\n",
    "    img = np.float32(img) / 255\n",
    "\n",
    "    cam = EigenCAM(model, target_layers, task='od')\n",
    "    grayscale_cam = cam(rgb_img)[0, :, :]\n",
    "    grayscale_cam = cam(rgb_img)[0, :, :]\n",
    "    cam_image = show_cam_on_image(img, grayscale_cam, use_rgb=True)\n",
    "\n",
    "    # 결과 이미지 파일 경로 설정\n",
    "    print(os.path.join(output_folder, image_file))\n",
    "    output_path = os.path.join(output_folder, image_file)\n",
    "    \n",
    "    # 결과 이미지 저장\n",
    "    im = cv2.cvtColor(rgb_img, cv2.COLOR_RGB2BGR)\n",
    "    result_image = Image.fromarray(np.hstack((im, cam_image)))\n",
    "    result_image.save(output_path)"
   ]
  }
 ],
 "metadata": {
  "kernelspec": {
   "display_name": "Python 3 (ipykernel)",
   "language": "python",
   "name": "python3"
  },
  "language_info": {
   "codemirror_mode": {
    "name": "ipython",
    "version": 3
   },
   "file_extension": ".py",
   "mimetype": "text/x-python",
   "name": "python",
   "nbconvert_exporter": "python",
   "pygments_lexer": "ipython3",
   "version": "3.9.7"
  }
 },
 "nbformat": 4,
 "nbformat_minor": 5
}
