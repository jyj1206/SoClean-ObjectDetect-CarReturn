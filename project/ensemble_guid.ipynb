{
 "cells": [
  {
   "cell_type": "markdown",
   "id": "2940ac77",
   "metadata": {},
   "source": [
    "# 앙상블 (mmdetection model + ultralytics YOLOv8) 가이드"
   ]
  },
  {
   "cell_type": "markdown",
   "id": "c87a10ec",
   "metadata": {},
   "source": [
    "## 필요 라이브러리 한번에 다운로드"
   ]
  },
  {
   "cell_type": "code",
   "execution_count": null,
   "id": "e5c98d22",
   "metadata": {
    "scrolled": true
   },
   "outputs": [],
   "source": [
    "!pip install -r ../requirements.txt"
   ]
  },
  {
   "cell_type": "code",
   "execution_count": null,
   "id": "09607f4d",
   "metadata": {},
   "outputs": [],
   "source": [
    "!pip install -e ../mmdetection"
   ]
  },
  {
   "cell_type": "code",
   "execution_count": null,
   "id": "149226b9",
   "metadata": {
    "scrolled": true
   },
   "outputs": [],
   "source": [
    "!mim install \"mmengine>=0.7.0\"\n",
    "!mim install \"mmcv>=2.0.0rc4\""
   ]
  },
  {
   "cell_type": "code",
   "execution_count": null,
   "id": "c8d728b1",
   "metadata": {},
   "outputs": [],
   "source": [
    "import sys\n",
    "sys.path.append('../')\n",
    "sys.path.append('../mmdetection')"
   ]
  },
  {
   "cell_type": "markdown",
   "id": "3bd438dd",
   "metadata": {},
   "source": [
    "## 데이터 준비"
   ]
  },
  {
   "cell_type": "code",
   "execution_count": null,
   "id": "d8609b4e",
   "metadata": {},
   "outputs": [],
   "source": [
    "import cv2\n",
    "import matplotlib.pyplot as plt\n",
    "\n",
    "# 이미지 파일 경로\n",
    "image_path = \"./data/user_1/driver_seat_mat.jpg\"\n",
    "\n",
    "# 이미지 불러오기\n",
    "img = cv2.imread(image_path)\n",
    "\n",
    "final_width = img.shape[1]\n",
    "final_height = img.shape[0]\n",
    "\n",
    "# 이미지를 새로운 크기로 조정\n",
    "mmdetection_img = cv2.resize(img, (1333, 800))\n",
    "yolov8_img = cv2.resize(img, (640, 640))\n",
    "final_img = cv2.resize(img, (final_width, final_height))"
   ]
  },
  {
   "cell_type": "markdown",
   "id": "a275131a",
   "metadata": {},
   "source": [
    "# Inference"
   ]
  },
  {
   "cell_type": "code",
   "execution_count": null,
   "id": "1debfed0",
   "metadata": {},
   "outputs": [],
   "source": [
    "from inference.predict import *"
   ]
  },
  {
   "cell_type": "markdown",
   "id": "1a28e5a0",
   "metadata": {},
   "source": [
    "## mmdetection"
   ]
  },
  {
   "cell_type": "code",
   "execution_count": null,
   "id": "29727c61",
   "metadata": {},
   "outputs": [],
   "source": [
    "config_file = '../mmdetection/configs/dino/dino-4scale_r50_8xb2-60e_coco_all_v2.py'\n",
    "mmdetection_checkpoint_file = './model/weights/mmdetection_dino_weights.pth'"
   ]
  },
  {
   "cell_type": "code",
   "execution_count": null,
   "id": "791ceebb",
   "metadata": {},
   "outputs": [],
   "source": [
    "mmdetection_prediction = mmdetection_predict(mmdetection_img, config_file, mmdetection_checkpoint_file)"
   ]
  },
  {
   "cell_type": "code",
   "execution_count": null,
   "id": "3a052837",
   "metadata": {
    "scrolled": true
   },
   "outputs": [],
   "source": [
    "mmdetection_prediction"
   ]
  },
  {
   "cell_type": "markdown",
   "id": "5f25f542",
   "metadata": {},
   "source": [
    "## YOLOv8 모델"
   ]
  },
  {
   "cell_type": "code",
   "execution_count": null,
   "id": "9fa20d4f",
   "metadata": {},
   "outputs": [],
   "source": [
    "yolov8_checkpoint_file = \"./model/weights/yolov8_weights.pt\""
   ]
  },
  {
   "cell_type": "code",
   "execution_count": null,
   "id": "549d7648",
   "metadata": {},
   "outputs": [],
   "source": [
    "yolov8_prediction = yolov8_predict(yolov8_img, yolov8_checkpoint_file)"
   ]
  },
  {
   "cell_type": "code",
   "execution_count": null,
   "id": "8f159d8b",
   "metadata": {},
   "outputs": [],
   "source": [
    "yolov8_prediction"
   ]
  },
  {
   "cell_type": "markdown",
   "id": "db72fc67",
   "metadata": {},
   "source": [
    "## 결과 시각화"
   ]
  },
  {
   "cell_type": "code",
   "execution_count": null,
   "id": "9bd16d94",
   "metadata": {},
   "outputs": [],
   "source": [
    "class_labels = ['bag', 'bottle', 'cafe-cup', 'can', 'dirty', 'keys', 'seat-dirty', 'socar-tissue', 'stain', 'trash', 'valuable']\n",
    "\n",
    "# 각 클래스에 대한 색상 지정\n",
    "class_colors = {\n",
    "    'bag': (255, 0, 0),       # 빨간색\n",
    "    'bottle': (0, 255, 0),    # 초록색\n",
    "    'cafe-cup': (0, 0, 255),  # 파란색\n",
    "    'can': (255, 255, 0),     # 노란색\n",
    "    'dirty': (255, 0, 255),   # 자홍색\n",
    "    'keys': (0, 255, 255),    # 청록색\n",
    "    'seat-dirty': (255, 165, 0),      # 오렌지색\n",
    "    'socar-tissue': (128, 0, 128),    # 보라색\n",
    "    'stain': (128, 128, 0),    # 올리브색\n",
    "    'trash': (0, 128, 128),    # 틸색\n",
    "    'valuable': (255, 192, 203)  # 분홍색\n",
    "}\n",
    "\n",
    "def draw_detection_results(image, detection_results, img_width, img_height, normalize=False):\n",
    "    # 복제하여 원본 이미지 변경 방지\n",
    "    image_with_boxes = image.copy()\n",
    "\n",
    "    for label, score, bbox in zip(detection_results['labels'], detection_results['scores'], detection_results['bboxes']):        \n",
    "        if normalize:\n",
    "            x1_norm, y1_norm, x2_norm, y2_norm = bbox\n",
    "\n",
    "            # 정규화된 좌표를 이미지 크기에 맞게 변환\n",
    "            x1 = int(x1_norm * img_width)\n",
    "            y1 = int(y1_norm * img_height)\n",
    "            x2 = int(x2_norm * img_width)\n",
    "            y2 = int(y2_norm * img_height)\n",
    "        else:\n",
    "            x1, y1, x2, y2 = map(int, bbox)\n",
    "        \n",
    "        # 클래스 이름 가져오기\n",
    "        class_name = class_labels[label]\n",
    "\n",
    "        # 클래스에 대응하는 색상 가져오기\n",
    "        color = class_colors.get(class_name, (0, 0, 0))  # 기본은 검은색\n",
    "\n",
    "        # 상자 그리기\n",
    "        cv2.rectangle(image_with_boxes, (x1, y1), (x2, y2), color, 2)\n",
    "\n",
    "        # 텍스트 추가 (클래스명과 신뢰도)\n",
    "        label_text = f\"Class: {class_name}, Score: {score:.2f}\"\n",
    "        cv2.putText(image_with_boxes, label_text, (x1, y1 - 10), cv2.FONT_HERSHEY_SIMPLEX, 0.5, color, 2)\n",
    "\n",
    "    return image_with_boxes"
   ]
  },
  {
   "cell_type": "markdown",
   "id": "0d44464e",
   "metadata": {},
   "source": [
    "## dino 모델 추론 결과 그리기"
   ]
  },
  {
   "cell_type": "code",
   "execution_count": null,
   "id": "824ab4e7",
   "metadata": {},
   "outputs": [],
   "source": [
    "# 결과를 이미지에 그리기\n",
    "mmdetection_image_with_boxes = draw_detection_results(mmdetection_img, mmdetection_prediction, 1333, 800)\n",
    "\n",
    "plt.figure(figsize=(18, 15))\n",
    "plt.imshow(cv2.cvtColor(mmdetection_image_with_boxes, cv2.COLOR_BGR2RGB))\n",
    "plt.axis('off')  # 축 표시하지 않음\n",
    "plt.show()"
   ]
  },
  {
   "cell_type": "markdown",
   "id": "777c88d2",
   "metadata": {},
   "source": [
    "## yolov8 모델 추론 결과 그리기"
   ]
  },
  {
   "cell_type": "code",
   "execution_count": null,
   "id": "a5730732",
   "metadata": {},
   "outputs": [],
   "source": [
    "# 결과를 이미지에 그리기\n",
    "yolov8_image_with_boxes = draw_detection_results(yolov8_img, yolov8_prediction, 640, 640)\n",
    "\n",
    "plt.figure(figsize=(18, 15))\n",
    "plt.imshow(cv2.cvtColor(yolov8_image_with_boxes, cv2.COLOR_BGR2RGB))\n",
    "plt.axis('off')  # 축 표시하지 않음\n",
    "plt.show()"
   ]
  },
  {
   "cell_type": "markdown",
   "id": "9638afe2",
   "metadata": {},
   "source": [
    "## wbf 앙상블"
   ]
  },
  {
   "cell_type": "code",
   "execution_count": null,
   "id": "59da4383",
   "metadata": {
    "scrolled": true
   },
   "outputs": [],
   "source": [
    "wbf_prediction = ensemble_predict(mmdetection_prediction, yolov8_prediction)"
   ]
  },
  {
   "cell_type": "code",
   "execution_count": null,
   "id": "70eb450b",
   "metadata": {},
   "outputs": [],
   "source": [
    "wbf_prediction"
   ]
  },
  {
   "cell_type": "code",
   "execution_count": null,
   "id": "cf5a32bc",
   "metadata": {},
   "outputs": [],
   "source": [
    "def denormalize_ensemble_prediction(detection_result, img_width, img_height):\n",
    "    denormalized_wbf_prediction = {'labels': [], 'scores': [], 'bboxes': []}\n",
    "\n",
    "    for label, score, bbox in zip(detection_result['labels'], detection_result['scores'], detection_result['bboxes']):\n",
    "        normalized_xmin, normalized_ymin, normalized_xmax, normalized_ymax = bbox\n",
    "\n",
    "        # 원래 이미지 크기에 따른 비율 계산\n",
    "        x_scale = img_width\n",
    "        y_scale = img_height\n",
    "\n",
    "        # 좌표를 원래 크기로 되돌리기\n",
    "        denormalized_xmin = normalized_xmin * x_scale\n",
    "        denormalized_ymin = normalized_ymin * y_scale\n",
    "        denormalized_xmax = normalized_xmax * x_scale\n",
    "        denormalized_ymax = normalized_ymax * y_scale\n",
    "\n",
    "        denormalized_wbf_prediction['labels'].append(label)\n",
    "        denormalized_wbf_prediction['scores'].append(score)\n",
    "        denormalized_wbf_prediction['bboxes'].append([denormalized_xmin, denormalized_ymin, denormalized_xmax, denormalized_ymax])\n",
    "\n",
    "    return denormalized_wbf_prediction\n",
    "\n",
    "# 함수 호출 및 결과 출력\n",
    "expanded_prediction = denormalize_ensemble_prediction(wbf_prediction, final_width, final_height)\n",
    "print(expanded_prediction)"
   ]
  },
  {
   "cell_type": "code",
   "execution_count": null,
   "id": "f19b8a1c",
   "metadata": {},
   "outputs": [],
   "source": [
    "# 이미지에 확장된 박스 그리기\n",
    "expanded_image_with_boxes = draw_detection_results(final_img, expanded_prediction, final_width, final_height)\n",
    "\n",
    "plt.figure(figsize=(18, 15))\n",
    "plt.imshow(cv2.cvtColor(expanded_image_with_boxes, cv2.COLOR_BGR2RGB))\n",
    "plt.axis('off')  # 축 표시하지 않음\n",
    "plt.show()"
   ]
  },
  {
   "cell_type": "markdown",
   "id": "02182465",
   "metadata": {},
   "source": [
    "## 최종 앙상블 모델 추론 결과 그리기"
   ]
  },
  {
   "cell_type": "code",
   "execution_count": null,
   "id": "5dd8d08e",
   "metadata": {
    "scrolled": false
   },
   "outputs": [],
   "source": [
    "# 결과를 이미지에 그리기\n",
    "final_image_with_boxes = draw_detection_results(final_img, wbf_prediction, final_width, final_height, True)\n",
    "\n",
    "plt.figure(figsize=(18, 15))\n",
    "plt.imshow(cv2.cvtColor(final_image_with_boxes, cv2.COLOR_BGR2RGB))\n",
    "plt.axis('off')  # 축 표시하지 않음\n",
    "plt.show()"
   ]
  },
  {
   "cell_type": "markdown",
   "id": "04f05f09",
   "metadata": {},
   "source": [
    "# 이미지 결과 비교"
   ]
  },
  {
   "cell_type": "code",
   "execution_count": null,
   "id": "d8ea9142",
   "metadata": {},
   "outputs": [],
   "source": [
    "mmdetection_image_with_boxes = draw_detection_results(mmdetection_img, mmdetection_prediction, 1333, 800)\n",
    "yolov8_image_with_boxes = draw_detection_results(yolov8_img, yolov8_prediction, 640, 640)\n",
    "final_image_with_boxes = draw_detection_results(final_img, wbf_prediction, final_width, final_height, True)\n",
    "\n",
    "target_size = (800, 1200)\n",
    "\n",
    "mmdetection_image_with_boxes_resized = cv2.resize(mmdetection_image_with_boxes, target_size)\n",
    "yolov8_image_with_boxes_resized = cv2.resize(yolov8_image_with_boxes, target_size)\n",
    "final_image_with_boxes_resized = cv2.resize(final_image_with_boxes, target_size)\n",
    "\n",
    "fig, axes = plt.subplots(1, 3, figsize=(18, 18))\n",
    "\n",
    "axes[0].imshow(cv2.cvtColor(mmdetection_image_with_boxes_resized, cv2.COLOR_BGR2RGB))\n",
    "axes[0].set_title('dino Results')\n",
    "axes[0].axis('off')\n",
    "\n",
    "axes[1].imshow(cv2.cvtColor(yolov8_image_with_boxes_resized, cv2.COLOR_BGR2RGB))\n",
    "axes[1].set_title('Yolov8 Results')\n",
    "axes[1].axis('off')\n",
    "\n",
    "axes[2].imshow(cv2.cvtColor(final_image_with_boxes_resized, cv2.COLOR_BGR2RGB))\n",
    "axes[2].set_title('ensemble Results')\n",
    "axes[2].axis('off')\n",
    "\n",
    "plt.tight_layout()\n",
    "plt.show()"
   ]
  }
 ],
 "metadata": {
  "kernelspec": {
   "display_name": "Python 3 (ipykernel)",
   "language": "python",
   "name": "python3"
  },
  "language_info": {
   "codemirror_mode": {
    "name": "ipython",
    "version": 3
   },
   "file_extension": ".py",
   "mimetype": "text/x-python",
   "name": "python",
   "nbconvert_exporter": "python",
   "pygments_lexer": "ipython3",
   "version": "3.9.7"
  }
 },
 "nbformat": 4,
 "nbformat_minor": 5
}
