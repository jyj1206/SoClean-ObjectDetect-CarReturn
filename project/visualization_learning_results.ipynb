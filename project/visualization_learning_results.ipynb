{
 "cells": [
  {
   "cell_type": "markdown",
   "id": "75cee917",
   "metadata": {},
   "source": [
    "# 학습 결과물 시각화"
   ]
  },
  {
   "cell_type": "markdown",
   "id": "49864d14",
   "metadata": {},
   "source": [
    "## mmdetection"
   ]
  },
  {
   "cell_type": "code",
   "execution_count": null,
   "id": "3e20ba03",
   "metadata": {},
   "outputs": [],
   "source": [
    "import json\n",
    "\n",
    "def process_json_file(input_file, output_file):\n",
    "    with open(input_file, 'r', encoding='utf-8') as infile:\n",
    "        lines = infile.readlines()\n",
    "\n",
    "    # 각 문장의 마지막에 쉼표 추가 (단, 마지막 줄은 제외)\n",
    "    for i in range(len(lines)-1):\n",
    "        lines[i] = lines[i].rstrip() + ','\n",
    "\n",
    "    # 마지막 줄에는 쉼표 추가하지 않음\n",
    "    lines[-1] = lines[-1].rstrip()\n",
    "\n",
    "    # 전체 내용을 대괄호로 감싸기\n",
    "    lines = ['['] + lines + [']']\n",
    "\n",
    "    with open(output_file, 'w', encoding='utf-8') as outfile:\n",
    "        outfile.writelines('\\n'.join(lines))\n",
    "\n",
    "input_file = \"model/learning_result/dino_result.json\"\n",
    "output_file = \"model/learning_result/valid_dino_result.json\"\n",
    "\n",
    "process_json_file(input_file, output_file)\n",
    "print(f\"File '{output_file}' created successfully.\")"
   ]
  },
  {
   "cell_type": "code",
   "execution_count": null,
   "id": "5472f4ee",
   "metadata": {},
   "outputs": [],
   "source": [
    "import json\n",
    "\n",
    "# JSON 파일 읽기\n",
    "with open(output_file, 'r', encoding='utf-8') as json_file:\n",
    "    json_data = json.load(json_file)\n",
    "\n",
    "# Initialize dictionaries for loss and bbox data\n",
    "loss_data = {'epoch': [], 'train/loss': [], 'train/cls_loss': [], 'train/box_loss': []}\n",
    "map_data = {'epoch': [], 'metrics/mAP50-95(B)': [], 'metrics/mAP50(B)': [], 'metrics/mAP75(B)': []}\n",
    "\n",
    "for entry in json_data:\n",
    "    # Handling 'loss' keys\n",
    "    if 'loss' in entry:\n",
    "        loss_data['train/loss'].append(entry.get('loss', 0))\n",
    "        loss_data['train/cls_loss'].append(entry.get('loss_cls', 0))\n",
    "        loss_data['train/box_loss'].append(entry.get('loss_bbox', 0))\n",
    "        loss_data['epoch'].append(entry.get('epoch', 0))\n",
    "\n",
    "    # Handling 'coco/bbox_mAP' keys\n",
    "    if 'coco/bbox_mAP' in entry:\n",
    "        map_data['metrics/mAP50-95(B)'].append(entry.get('coco/bbox_mAP_50', 0))\n",
    "        map_data['metrics/mAP50(B)'].append(entry.get('coco/bbox_mAP', 0))\n",
    "        map_data['metrics/mAP75(B)'].append(entry.get('coco/bbox_mAP_75', 0))\n",
    "        map_data['epoch'].append(entry.get('step', 0))"
   ]
  },
  {
   "cell_type": "code",
   "execution_count": null,
   "id": "e8d021a6",
   "metadata": {},
   "outputs": [],
   "source": [
    "total_count = len(set(loss_data['epoch']))\n",
    "steps = len(loss_data['epoch'])\n",
    "\n",
    "epochs_per_step = steps//total_count"
   ]
  },
  {
   "cell_type": "code",
   "execution_count": null,
   "id": "057fddb2",
   "metadata": {},
   "outputs": [],
   "source": [
    "# 새로운 딕셔너리 초기화\n",
    "averaged_loss_data = {'epoch': [], 'train/loss': [], 'train/cls_loss': [], 'train/box_loss': []}\n",
    "\n",
    "# loss_data를 epochs_per_step 단위로 묶어 평균 계산\n",
    "for i in range(0, len(loss_data['epoch']), epochs_per_step):\n",
    "    epoch_slice = slice(i, i + epochs_per_step)\n",
    "    \n",
    "    # 현재 슬라이스에 속하는 데이터의 평균 계산\n",
    "    averaged_epoch = sum(loss_data['epoch'][epoch_slice]) / len(loss_data['epoch'][epoch_slice])\n",
    "    averaged_loss = sum(loss_data['train/loss'][epoch_slice]) / len(loss_data['train/loss'][epoch_slice])\n",
    "    averaged_loss_cls = sum(loss_data['train/cls_loss'][epoch_slice]) / len(loss_data['train/cls_loss'][epoch_slice])\n",
    "    averaged_loss_bbox = sum(loss_data['train/box_loss'][epoch_slice]) / len(loss_data['train/box_loss'][epoch_slice])\n",
    "    \n",
    "    # 평균 값을 새로운 딕셔너리에 추가\n",
    "    averaged_loss_data['epoch'].append(int(averaged_epoch))\n",
    "    averaged_loss_data['train/loss'].append(averaged_loss)\n",
    "    averaged_loss_data['train/cls_loss'].append(averaged_loss_cls)\n",
    "    averaged_loss_data['train/box_loss'].append(averaged_loss_bbox)"
   ]
  },
  {
   "cell_type": "code",
   "execution_count": null,
   "id": "af482472",
   "metadata": {},
   "outputs": [],
   "source": [
    "import matplotlib.pyplot as plt\n",
    "\n",
    "metrics = ['train/loss', 'train/cls_loss', 'train/box_loss', 'metrics/mAP50(B)', 'metrics/mAP50-95(B)', 'metrics/mAP75(B)']\n",
    "\n",
    "# 2x3 subplot 생성\n",
    "fig, axs = plt.subplots(2, 3, figsize=(15, 10))\n",
    "fig.suptitle('Dino learning result by Metrics over Epochs')\n",
    "\n",
    "# 각 subplot에 선 그래프 그리기\n",
    "for i, metric in enumerate(metrics):\n",
    "    row = i // 3\n",
    "    col = i % 3\n",
    "    \n",
    "    if 'loss' in metric: \n",
    "        loss_values = averaged_loss_data[metric]\n",
    "        axs[row, col].plot(averaged_loss_data['epoch'], loss_values, label=metric)\n",
    "        \n",
    "        # Annotate with blue circle at epoch 79\n",
    "        epoch_79_value = loss_values[78]  # 79th epoch is at index 78\n",
    "        axs[row, col].plot(79, epoch_79_value, 'bo')\n",
    "        axs[row, col].text(79, epoch_79_value + 0.1, f'Epoch 79: {epoch_79_value:.4f}', color='blue', fontsize=10, ha='center')\n",
    "\n",
    "    else:\n",
    "        map_values = map_data[metric]\n",
    "        axs[row, col].plot(map_data['epoch'], map_values, label=metric)\n",
    "        \n",
    "        # Annotate with red circle at epoch 79\n",
    "        epoch_79_value = map_values[78]  # 79th epoch is at index 78\n",
    "        axs[row, col].plot(79, epoch_79_value, 'ro')\n",
    "        axs[row, col].text(79, epoch_79_value - 0.1, f'Epoch 79: {epoch_79_value:.4f}', color='red', fontsize=10, ha='center')\n",
    "\n",
    "    axs[row, col].set_title(metric)\n",
    "    axs[row, col].set_xlabel('Epoch')\n",
    "    axs[row, col].set_ylabel('Value')\n",
    "    axs[row, col].grid(True)\n",
    "    axs[row, col].legend()\n",
    "\n",
    "# 레이아웃 조정\n",
    "plt.tight_layout(rect=[0, 0, 1, 0.96])\n",
    "\n",
    "# 그래프를 이미지 파일로 저장\n",
    "plt.savefig('model/learning_result/dino_learing_visualization.png', facecolor='white')\n",
    "\n",
    "# 그래프 표시\n",
    "plt.show()"
   ]
  },
  {
   "cell_type": "markdown",
   "id": "552bbc4a",
   "metadata": {},
   "source": [
    "## YOLO"
   ]
  },
  {
   "cell_type": "code",
   "execution_count": null,
   "id": "7b61df1c",
   "metadata": {},
   "outputs": [],
   "source": [
    "import pandas as pd\n",
    "yolov8_data = pd.read_csv('model/learning_result/yolov8_result.csv')"
   ]
  },
  {
   "cell_type": "code",
   "execution_count": null,
   "id": "60daebf4",
   "metadata": {},
   "outputs": [],
   "source": [
    "yolov8_data.head()"
   ]
  },
  {
   "cell_type": "code",
   "execution_count": null,
   "id": "f4a2923f",
   "metadata": {},
   "outputs": [],
   "source": [
    "import pandas as pd\n",
    "import matplotlib.pyplot as plt\n",
    "\n",
    "# 열 이름에서 공백 제거\n",
    "yolov8_data.columns = yolov8_data.columns.str.strip()\n",
    "\n",
    "# 필요한 열만 추출\n",
    "selected_columns = ['epoch',  'val/box_loss', 'val/cls_loss', 'val/dfl_loss', 'metrics/mAP50(B)', 'metrics/mAP50-95(B)', 'fitness']\n",
    "yolov8_data_selected = yolov8_data[selected_columns]\n",
    "\n",
    "# 2x3 subplot 생성\n",
    "fig, axs = plt.subplots(2, 3, figsize=(15, 10))\n",
    "fig.suptitle(' learning result by Metrics over Epochs')\n",
    "\n",
    "# 각 subplot에 선 그래프 그리기\n",
    "for i, metric in enumerate(yolov8_data_selected.columns[1:]):\n",
    "    row = i // 3\n",
    "    col = i % 3\n",
    "    axs[row, col].plot(yolov8_data_selected['epoch'], yolov8_data_selected[metric], label=metric)\n",
    "    axs[row, col].set_title(metric)\n",
    "    axs[row, col].set_xlabel('Epoch')\n",
    "    axs[row, col].set_ylabel('value')\n",
    "    axs[row, col].grid(True)\n",
    "    axs[row, col].legend()\n",
    "\n",
    "    # Annotate values at epoch 200\n",
    "    value_at_epoch_200 = yolov8_data_selected.loc[yolov8_data_selected['epoch'] == 200, metric].values[0]\n",
    "\n",
    "    # Color coding based on metric type\n",
    "    if 'loss' in metric.lower():\n",
    "        axs[row, col].plot(200, value_at_epoch_200, 'bo')  # Blue circle for epoch 200 value for loss\n",
    "        axs[row, col].annotate(f'Epoch 200: {value_at_epoch_200:.4f}',\n",
    "                              xy=(200, value_at_epoch_200), xytext=(200, value_at_epoch_200 + 0.1),\n",
    "                              color='blue', ha='center', va='bottom',\n",
    "                              bbox=dict(boxstyle='round', edgecolor='none', facecolor='none'))\n",
    "    else:\n",
    "        axs[row, col].plot(200, value_at_epoch_200, 'ro')  # Red circle for epoch 200 value for map metrics\n",
    "        axs[row, col].annotate(f'Epoch 200: {value_at_epoch_200:.4f}',\n",
    "                              xy=(200, value_at_epoch_200), xytext=(200, value_at_epoch_200 - 0.1),\n",
    "                              color='red', ha='center', va='bottom',\n",
    "                              bbox=dict(boxstyle='round', edgecolor='none', facecolor='none'))\n",
    "\n",
    "# 레이아웃 조정\n",
    "plt.tight_layout(rect=[0, 0, 1, 0.96])\n",
    "\n",
    "# 그래프를 이미지 파일로 저장\n",
    "plt.savefig('model/learning_result/yolov8_learing_visualization.png', facecolor='white')\n",
    "\n",
    "# 그래프 표시\n",
    "plt.show()"
   ]
  }
 ],
 "metadata": {
  "kernelspec": {
   "display_name": "Python 3 (ipykernel)",
   "language": "python",
   "name": "python3"
  },
  "language_info": {
   "codemirror_mode": {
    "name": "ipython",
    "version": 3
   },
   "file_extension": ".py",
   "mimetype": "text/x-python",
   "name": "python",
   "nbconvert_exporter": "python",
   "pygments_lexer": "ipython3",
   "version": "3.9.7"
  }
 },
 "nbformat": 4,
 "nbformat_minor": 5
}
