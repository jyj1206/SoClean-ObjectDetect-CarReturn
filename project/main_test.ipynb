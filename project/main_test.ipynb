{
 "cells": [
  {
   "cell_type": "markdown",
   "id": "2f8ea335",
   "metadata": {},
   "source": [
    "# main 함수 test"
   ]
  },
  {
   "cell_type": "markdown",
   "id": "5511ab09",
   "metadata": {},
   "source": [
    "## 필요 라이브러리 한번에 다운로드"
   ]
  },
  {
   "cell_type": "code",
   "execution_count": null,
   "id": "7a6b8c31",
   "metadata": {
    "scrolled": true
   },
   "outputs": [],
   "source": [
    "!pip install -r ../requirements.txt"
   ]
  },
  {
   "cell_type": "code",
   "execution_count": null,
   "id": "f25e6821",
   "metadata": {},
   "outputs": [],
   "source": [
    "!pip install -e ../mmdetection"
   ]
  },
  {
   "cell_type": "code",
   "execution_count": null,
   "id": "6af2ddda",
   "metadata": {
    "scrolled": true
   },
   "outputs": [],
   "source": [
    "!mim install \"mmengine>=0.7.0\"\n",
    "!mim install \"mmcv>=2.0.0rc4\""
   ]
  },
  {
   "cell_type": "code",
   "execution_count": null,
   "id": "02170a94",
   "metadata": {},
   "outputs": [],
   "source": [
    "import sys\n",
    "sys.path.append('../')\n",
    "sys.path.append('../mmdetection')"
   ]
  },
  {
   "cell_type": "markdown",
   "id": "df8f40a2",
   "metadata": {},
   "source": [
    "## one image main CLI test"
   ]
  },
  {
   "cell_type": "markdown",
   "id": "a4cc81d1",
   "metadata": {},
   "source": [
    "### closed-set 이미지"
   ]
  },
  {
   "cell_type": "code",
   "execution_count": null,
   "id": "2985b68b",
   "metadata": {},
   "outputs": [],
   "source": [
    "!python ../main.py --image_path \"./data/user_1/cup_holder.jpg\" --mmdet_cf_path \"../mmdetection/configs/dino/dino-4scale_r50_8xb2-60e_coco_all_v2.py\" --mmdet_path \"./model/weights/mmdetection_dino_weights.pth\" --yolov8_path \"./model/weights/yolov8_weights.pt\" --openmax_path \"./model/weights/classifier_weights.pth\""
   ]
  },
  {
   "cell_type": "markdown",
   "id": "d759b15d",
   "metadata": {},
   "source": [
    "### open-set 이미지"
   ]
  },
  {
   "cell_type": "code",
   "execution_count": null,
   "id": "f45c8b33",
   "metadata": {},
   "outputs": [],
   "source": [
    "!python ../main.py --image_path \"./data/reject/reject.jpg\" --mmdet_cf_path \"../mmdetection/configs/dino/dino-4scale_r50_8xb2-60e_coco_all_v2.py\" --mmdet_path \"./model/weights/mmdetection_dino_weights.pth\" --yolov8_path \"./model/weights/yolov8_weights.pt\" --openmax_path \"./model/weights/classifier_weights.pth\""
   ]
  },
  {
   "cell_type": "markdown",
   "id": "05efbea4",
   "metadata": {},
   "source": [
    "## one image pipeline 함수 test"
   ]
  },
  {
   "cell_type": "markdown",
   "id": "9fd31708",
   "metadata": {},
   "source": [
    "### closed-set 이미지"
   ]
  },
  {
   "cell_type": "code",
   "execution_count": null,
   "id": "dc1637c4",
   "metadata": {
    "scrolled": true
   },
   "outputs": [],
   "source": [
    "from inference.pipeline import image_pipeline\n",
    "image_path = \"./data/user_1/cup_holder.jpg\"\n",
    "mmdetection_config_file = \"../mmdetection/configs/dino/dino-4scale_r50_8xb2-60e_coco_all_v2.py\"\n",
    "mmdetection_checkpoint_file = \"./model/weights/mmdetection_dino_weights.pth\"\n",
    "yolov8_checkpoint_file = \"./model/weights/yolov8_weights.pt\"\n",
    "classfire_checkpoint_file = \"./model/weights/classifier_weights.pth\"\n",
    "final_result, class_result = image_pipeline(image_path, mmdetection_config_file, mmdetection_checkpoint_file, yolov8_checkpoint_file, classfire_checkpoint_file)"
   ]
  },
  {
   "cell_type": "markdown",
   "id": "e91e07f0",
   "metadata": {},
   "source": [
    "### open-set 이미지"
   ]
  },
  {
   "cell_type": "code",
   "execution_count": null,
   "id": "cf66d8e5",
   "metadata": {},
   "outputs": [],
   "source": [
    "# 0 : 'pending', 1 : 'clean', 2 : 'normal', 3 : 'dirty'\n",
    "class_result"
   ]
  },
  {
   "cell_type": "code",
   "execution_count": null,
   "id": "6a97e7e8",
   "metadata": {},
   "outputs": [],
   "source": [
    "final_result"
   ]
  },
  {
   "cell_type": "code",
   "execution_count": null,
   "id": "b863a17e",
   "metadata": {},
   "outputs": [],
   "source": [
    "image_path = \"./data/reject/reject.jpg\"\n",
    "final_result, class_result = image_pipeline(image_path, mmdetection_config_file, mmdetection_checkpoint_file, yolov8_checkpoint_file, classfire_checkpoint_file)"
   ]
  },
  {
   "cell_type": "markdown",
   "id": "ea4091a7",
   "metadata": {},
   "source": [
    "## four image pipeline 함수 test"
   ]
  },
  {
   "cell_type": "markdown",
   "id": "8e236e50",
   "metadata": {},
   "source": [
    "### 성공 시나리오 : 4장의 부위가 모두 맞게 들어온 경우"
   ]
  },
  {
   "cell_type": "code",
   "execution_count": null,
   "id": "5873d161",
   "metadata": {},
   "outputs": [],
   "source": [
    "from inference.pipeline import four_image_list_pipeline\n",
    "# {imamge_dir}/{user_num} 아래에 사진 4장\n",
    "# driver_seat_mat., passenger_seat_mat., back_seat., cup_holder.\n",
    "\n",
    "image_dir = 'data' # 이미지 저장 경로\n",
    "user_num = 'user_1' # 사용자 번호\n",
    "mmdetection_config_file = \"../mmdetection/configs/dino/dino-4scale_r50_8xb2-60e_coco_all_v2.py\"\n",
    "mmdetection_checkpoint_file = \"./model/weights/mmdetection_dino_weights.pth\"\n",
    "yolov8_checkpoint_file = \"./model/weights/yolov8_weights.pt\"\n",
    "classfire_checkpoint_file = \"./model/weights/classifier_weights.pth\"\n",
    "\n",
    "final_result = four_image_list_pipeline(image_dir, user_num, mmdetection_config_file, mmdetection_checkpoint_file, yolov8_checkpoint_file, classfire_checkpoint_file)"
   ]
  },
  {
   "cell_type": "code",
   "execution_count": null,
   "id": "b3864d55",
   "metadata": {},
   "outputs": [],
   "source": [
    "final_result['predictions']"
   ]
  },
  {
   "cell_type": "code",
   "execution_count": null,
   "id": "982bd564",
   "metadata": {},
   "outputs": [],
   "source": [
    "final_result['class_labels']"
   ]
  },
  {
   "cell_type": "code",
   "execution_count": null,
   "id": "c5a90bec",
   "metadata": {},
   "outputs": [],
   "source": [
    "final_result['cleanliness']"
   ]
  },
  {
   "cell_type": "markdown",
   "id": "63ca7ffc",
   "metadata": {},
   "source": [
    "### 실패 시나리오 :  4장 중 oepn-set 데이터가 끼어 있는 경우"
   ]
  },
  {
   "cell_type": "code",
   "execution_count": null,
   "id": "aec083a4",
   "metadata": {},
   "outputs": [],
   "source": [
    "image_dir = 'data' # 이미지 저장 경로\n",
    "user_num = 'user_2' # 사용자 번호\n",
    "final_result = four_image_list_pipeline(image_dir, user_num, mmdetection_config_file, mmdetection_checkpoint_file, yolov8_checkpoint_file, classfire_checkpoint_file)"
   ]
  },
  {
   "cell_type": "code",
   "execution_count": null,
   "id": "55be3550",
   "metadata": {},
   "outputs": [],
   "source": [
    "final_result['predictions']"
   ]
  },
  {
   "cell_type": "code",
   "execution_count": null,
   "id": "aa4da4df",
   "metadata": {},
   "outputs": [],
   "source": [
    "final_result['class_labels']"
   ]
  },
  {
   "cell_type": "code",
   "execution_count": null,
   "id": "936e3bba",
   "metadata": {},
   "outputs": [],
   "source": [
    "final_result['cleanliness']"
   ]
  }
 ],
 "metadata": {
  "kernelspec": {
   "display_name": "Python 3 (ipykernel)",
   "language": "python",
   "name": "python3"
  },
  "language_info": {
   "codemirror_mode": {
    "name": "ipython",
    "version": 3
   },
   "file_extension": ".py",
   "mimetype": "text/x-python",
   "name": "python",
   "nbconvert_exporter": "python",
   "pygments_lexer": "ipython3",
   "version": "3.9.7"
  }
 },
 "nbformat": 4,
 "nbformat_minor": 5
}
