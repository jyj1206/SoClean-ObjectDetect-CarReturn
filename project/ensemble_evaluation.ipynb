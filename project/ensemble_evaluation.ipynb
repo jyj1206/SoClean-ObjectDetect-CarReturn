{
 "cells": [
  {
   "cell_type": "markdown",
   "id": "76578c19",
   "metadata": {},
   "source": [
    "# 앙상블 (mmdetection model + ultralytics YOLOv8) 평가"
   ]
  },
  {
   "cell_type": "markdown",
   "id": "d285ba49",
   "metadata": {},
   "source": [
    "## 필요 라이브러리 한번에 다운로드"
   ]
  },
  {
   "cell_type": "code",
   "execution_count": null,
   "id": "79c1f6f0",
   "metadata": {
    "scrolled": true
   },
   "outputs": [],
   "source": [
    "!pip install -r ../requirements.txt"
   ]
  },
  {
   "cell_type": "code",
   "execution_count": null,
   "id": "3e523565",
   "metadata": {},
   "outputs": [],
   "source": [
    "!pip install -e ../mmdetection"
   ]
  },
  {
   "cell_type": "code",
   "execution_count": null,
   "id": "7ede24a8",
   "metadata": {
    "scrolled": true
   },
   "outputs": [],
   "source": [
    "!mim install \"mmengine>=0.7.0\"\n",
    "!mim install \"mmcv>=2.0.0rc4\""
   ]
  },
  {
   "cell_type": "code",
   "execution_count": null,
   "id": "d4893335",
   "metadata": {},
   "outputs": [],
   "source": [
    "import sys\n",
    "sys.path.append('../')\n",
    "sys.path.append('../mmdetection')"
   ]
  },
  {
   "cell_type": "markdown",
   "id": "12dd04a6",
   "metadata": {},
   "source": [
    "## 데이터 준비"
   ]
  },
  {
   "cell_type": "code",
   "execution_count": null,
   "id": "163e7b2f",
   "metadata": {},
   "outputs": [],
   "source": [
    "# 앙상블 데이터 세팅\n",
    "# import os\n",
    "\n",
    "# # data 폴더 경로\n",
    "# data_dir = 'data'\n",
    "# output_dir = 'clean_rating_data'\n",
    "\n",
    "# # output 디렉토리 생성\n",
    "# os.makedirs(output_dir, exist_ok=True)\n",
    "\n",
    "# # data 폴더 내의 모든 하위 폴더에 대해 반복\n",
    "# for label_folder in os.listdir(data_dir):\n",
    "#     label_folder_path = os.path.join(data_dir, label_folder)\n",
    "\n",
    "#     # 폴더인 경우에만 처리\n",
    "#     if os.path.isdir(label_folder_path):\n",
    "\n",
    "#         # 폴더 내의 각 파일에 대해 반복\n",
    "#         for filename in os.listdir(label_folder_path):\n",
    "#             file_path = os.path.join(label_folder_path, filename)\n",
    "\n",
    "#             # 파일이 실제로 파일이고 이미지 파일인 경우\n",
    "#             if os.path.isfile(file_path) and filename.lower().endswith(('.png', '.jpg', '.jpeg', '.gif')):\n",
    "#                 # 폴더 이름을 라벨로 사용하여 파일 이름 변경\n",
    "#                 new_filename = f'{label_folder}_{filename}'\n",
    "#                 new_file_path = os.path.join(output_dir, new_filename)\n",
    "#                 # 파일 이동\n",
    "#                 os.rename(file_path, new_file_path)"
   ]
  },
  {
   "cell_type": "code",
   "execution_count": null,
   "id": "bf895b5e",
   "metadata": {},
   "outputs": [],
   "source": [
    "import os\n",
    "\n",
    "def get_image_paths(data_dir):\n",
    "    image_list = []\n",
    "\n",
    "    # data 폴더 내의 모든 파일에 대해 반복\n",
    "    for filename in os.listdir(data_dir):\n",
    "        file_path = os.path.join(data_dir, filename)\n",
    "\n",
    "        # 파일이 실제로 파일이고 이미지 파일인 경우\n",
    "        if os.path.isfile(file_path) and filename.lower().endswith(('.png', '.jpg', '.jpeg', '.gif')):\n",
    "            image_list.append(file_path)\n",
    "\n",
    "    return image_list"
   ]
  },
  {
   "cell_type": "code",
   "execution_count": null,
   "id": "953a618f",
   "metadata": {},
   "outputs": [],
   "source": [
    "data_dir = './clean_rating_data'\n",
    "images = get_image_paths(data_dir)\n",
    "\n",
    "# 15장만 테스트\n",
    "images = images[:15]"
   ]
  },
  {
   "cell_type": "markdown",
   "id": "f49b372d",
   "metadata": {},
   "source": [
    "## ensemble 시각화"
   ]
  },
  {
   "cell_type": "code",
   "execution_count": null,
   "id": "a17b15f7",
   "metadata": {},
   "outputs": [],
   "source": [
    "import cv2\n",
    "class_labels = ['bag', 'bottle', 'cafe-cup', 'can', 'dirty', 'keys', 'seat-dirty', 'socar-tissue', 'stain', 'trash', 'valuable']\n",
    "\n",
    "# 각 클래스에 대한 색상 지정\n",
    "class_colors = {\n",
    "    'bag': (255, 0, 0),       # 빨간색\n",
    "    'bottle': (0, 255, 0),    # 초록색\n",
    "    'cafe-cup': (0, 0, 255),  # 파란색\n",
    "    'can': (255, 255, 0),     # 노란색\n",
    "    'dirty': (255, 0, 255),   # 자홍색\n",
    "    'keys': (0, 255, 255),    # 청록색\n",
    "    'seat-dirty': (255, 165, 0),      # 오렌지색\n",
    "    'socar-tissue': (128, 0, 128),    # 보라색\n",
    "    'stain': (128, 128, 0),    # 올리브색\n",
    "    'trash': (0, 128, 128),    # 틸색\n",
    "    'valuable': (255, 192, 203)  # 분홍색\n",
    "}\n",
    "\n",
    "def draw_detection_results(image, detection_results, img_width, img_height, normalize=False):\n",
    "    # 복제하여 원본 이미지 변경 방지\n",
    "    image_with_boxes = image.copy()\n",
    "\n",
    "    for label, score, bbox in zip(detection_results['labels'], detection_results['scores'], detection_results['bboxes']):        \n",
    "        if normalize:\n",
    "            x1_norm, y1_norm, x2_norm, y2_norm = bbox\n",
    "\n",
    "            # 정규화된 좌표를 이미지 크기에 맞게 변환\n",
    "            x1 = int(x1_norm * img_width)\n",
    "            y1 = int(y1_norm * img_height)\n",
    "            x2 = int(x2_norm * img_width)\n",
    "            y2 = int(y2_norm * img_height)\n",
    "        else:\n",
    "            x1, y1, x2, y2 = map(int, bbox)\n",
    "        \n",
    "        # 클래스 이름 가져오기\n",
    "        class_name = class_labels[label]\n",
    "\n",
    "        # 클래스에 대응하는 색상 가져오기\n",
    "        color = class_colors.get(class_name, (0, 0, 0))  # 기본은 검은색\n",
    "\n",
    "        # 상자 그리기\n",
    "        cv2.rectangle(image_with_boxes, (x1, y1), (x2, y2), color, 2)\n",
    "\n",
    "        # 텍스트 추가 (클래스명과 신뢰도)\n",
    "        label_text = f\"Class: {class_name}, Score: {score:.2f}\"\n",
    "        cv2.putText(image_with_boxes, label_text, (x1, y1 - 10), cv2.FONT_HERSHEY_SIMPLEX, 0.5, color, 2)\n",
    "\n",
    "    return image_with_boxes"
   ]
  },
  {
   "cell_type": "code",
   "execution_count": null,
   "id": "fc47e127",
   "metadata": {},
   "outputs": [],
   "source": [
    "import matplotlib.pyplot as plt\n",
    "import os\n",
    "import shutil\n",
    "from inference.clean_rating import determine_clean_class\n",
    "\n",
    "clean_rate = ['pending', 'clean', 'normal', 'dirty']\n",
    "result_directory = './visualization_result'\n",
    "\n",
    "shutil.rmtree(result_directory, ignore_errors=True)\n",
    "os.makedirs(result_directory, exist_ok=True)"
   ]
  },
  {
   "cell_type": "code",
   "execution_count": null,
   "id": "f29eacf6",
   "metadata": {},
   "outputs": [],
   "source": [
    "def save_visualization_result(images, mmdetection_predictions, yolov8_predictions, wbf_predictions):\n",
    "    for idx, image in enumerate(images):\n",
    "        file_name = os.path.basename(image)\n",
    "        parts = file_name.split('_')\n",
    "        label_class = parts[0]\n",
    "        file_name = '_'.join(parts[1:])\n",
    "\n",
    "        img = cv2.imread(image)\n",
    "\n",
    "        final_width = img.shape[1]\n",
    "        final_height = img.shape[0]\n",
    "\n",
    "        mmdetection_img = cv2.resize(img, (1333, 800))\n",
    "        yolov8_img = cv2.resize(img, (640, 640))\n",
    "        final_img = cv2.resize(img, (final_width, final_height))\n",
    "\n",
    "        mmdetection_image_with_boxes = draw_detection_results(mmdetection_img, mmdetection_predictions[idx], 1333, 800)\n",
    "        yolov8_image_with_boxes = draw_detection_results(yolov8_img, yolov8_predictions[idx], 640, 640)\n",
    "        final_image_with_boxes = draw_detection_results(final_img, wbf_predictions[idx], final_width, final_height, True)\n",
    "\n",
    "        y_pred = determine_clean_class(wbf_predictions[idx])\n",
    "\n",
    "        fig, axes = plt.subplots(3, 1, figsize=(15, 25))\n",
    "        \n",
    "        predicted_class = clean_rate[y_pred]\n",
    "\n",
    "        is_correct = label_class == predicted_class\n",
    "        title_color = 'green' if is_correct else 'red'\n",
    "        result_title = f'{is_correct}, label : {label_class}, predict : {predicted_class}'\n",
    "\n",
    "        plt.suptitle(result_title, fontsize=16, color=title_color)\n",
    "\n",
    "        axes[0].imshow(cv2.cvtColor(mmdetection_image_with_boxes , cv2.COLOR_BGR2RGB))\n",
    "        axes[0].set_title('dino Results')\n",
    "        axes[0].axis('off')\n",
    "\n",
    "        axes[1].imshow(cv2.cvtColor(yolov8_image_with_boxes, cv2.COLOR_BGR2RGB))\n",
    "        axes[1].set_title('Yolov8 Results')\n",
    "        axes[1].axis('off')\n",
    "\n",
    "        axes[2].imshow(cv2.cvtColor(final_image_with_boxes, cv2.COLOR_BGR2RGB))\n",
    "        axes[2].set_title('ensemble Results')\n",
    "        axes[2].axis('off')\n",
    "\n",
    "        result_filename = f'{is_correct}_ensemble_detection_{file_name}.png'\n",
    "        result_path = os.path.join(result_directory, result_filename)\n",
    "\n",
    "        fig.patch.set_facecolor('white')\n",
    "        plt.savefig(result_path, facecolor='white')\n",
    "\n",
    "        plt.close()"
   ]
  },
  {
   "cell_type": "code",
   "execution_count": null,
   "id": "7f5e72f7",
   "metadata": {
    "scrolled": true
   },
   "outputs": [],
   "source": [
    "# mmdetection\n",
    "config_file = '../mmdetection/configs/dino/dino-4scale_r50_8xb2-60e_coco_all_v2.py'\n",
    "checkpoint_file = './model/weights/mmdetection_dino_weights.pth'"
   ]
  },
  {
   "cell_type": "code",
   "execution_count": null,
   "id": "1e668d83",
   "metadata": {},
   "outputs": [],
   "source": [
    "# yolov8\n",
    "yolov8_checkpoint_file = \"./model/weights/yolov8_weights.pt\""
   ]
  },
  {
   "cell_type": "code",
   "execution_count": null,
   "id": "c16d2324",
   "metadata": {
    "scrolled": true
   },
   "outputs": [],
   "source": [
    "from inference.predict_list import mmdetection_list_predict\n",
    "from inference.predict_list import yolov8_list_predict\n",
    "from inference.predict_list import ensemble_list_predict\n",
    "\n",
    "for idx in range(0, len(images), 10):\n",
    "    end_idx = min(idx + 10, len(images))\n",
    "    mmdetection_predictions = mmdetection_list_predict(images[idx:end_idx] , config_file, checkpoint_file)\n",
    "    yolov8_predictions = yolov8_list_predict(images[idx:end_idx] , yolov8_checkpoint_file)\n",
    "    wbf_predictions = ensemble_list_predict(mmdetection_predictions, yolov8_predictions) \n",
    "    save_visualization_result(images[idx:end_idx], mmdetection_predictions, yolov8_predictions, wbf_predictions)\n",
    "    \n",
    "    print(f\"{end_idx}/{len(images)} 시각화 완료...\")"
   ]
  }
 ],
 "metadata": {
  "kernelspec": {
   "display_name": "Python 3 (ipykernel)",
   "language": "python",
   "name": "python3"
  },
  "language_info": {
   "codemirror_mode": {
    "name": "ipython",
    "version": 3
   },
   "file_extension": ".py",
   "mimetype": "text/x-python",
   "name": "python",
   "nbconvert_exporter": "python",
   "pygments_lexer": "ipython3",
   "version": "3.9.7"
  }
 },
 "nbformat": 4,
 "nbformat_minor": 5
}
