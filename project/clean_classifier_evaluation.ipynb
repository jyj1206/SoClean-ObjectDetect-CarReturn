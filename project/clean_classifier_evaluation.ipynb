{
 "cells": [
  {
   "cell_type": "markdown",
   "id": "3716dfc7",
   "metadata": {},
   "source": [
    "# 청결도 분류기 평가"
   ]
  },
  {
   "cell_type": "markdown",
   "id": "0311dd25",
   "metadata": {},
   "source": [
    "## 필요한 라이브러리 한번에 다운로드"
   ]
  },
  {
   "cell_type": "code",
   "execution_count": null,
   "id": "0064d4b3",
   "metadata": {},
   "outputs": [],
   "source": [
    "!pip install -r ../requirements.txt"
   ]
  },
  {
   "cell_type": "code",
   "execution_count": null,
   "id": "521c37a7",
   "metadata": {},
   "outputs": [],
   "source": [
    "!pip install -e ../mmdetection"
   ]
  },
  {
   "cell_type": "code",
   "execution_count": null,
   "id": "48a7931f",
   "metadata": {
    "scrolled": true
   },
   "outputs": [],
   "source": [
    "!mim install \"mmengine>=0.7.0\"\n",
    "!mim install \"mmcv>=2.0.0rc4\""
   ]
  },
  {
   "cell_type": "code",
   "execution_count": null,
   "id": "838a2bf0",
   "metadata": {},
   "outputs": [],
   "source": [
    "import sys\n",
    "sys.path.append('../') \n",
    "sys.path.append('../mmdetection')"
   ]
  },
  {
   "cell_type": "markdown",
   "id": "c5a3c0c3",
   "metadata": {},
   "source": [
    "## 파일 이름 변경하는 코드 "
   ]
  },
  {
   "cell_type": "code",
   "execution_count": null,
   "id": "ddfaf985",
   "metadata": {
    "scrolled": true
   },
   "outputs": [],
   "source": [
    "import os\n",
    "\n",
    "# data 폴더 경로\n",
    "data_dir = 'data'\n",
    "output_dir = 'clean_rating_data'\n",
    "\n",
    "# output 디렉토리 생성\n",
    "os.makedirs(output_dir, exist_ok=True)\n",
    "\n",
    "# data 폴더 내의 모든 하위 폴더에 대해 반복\n",
    "for label_folder in os.listdir(data_dir):\n",
    "    label_folder_path = os.path.join(data_dir, label_folder)\n",
    "\n",
    "    # 폴더인 경우에만 처리\n",
    "    if os.path.isdir(label_folder_path):\n",
    "\n",
    "        # 폴더 내의 각 파일에 대해 반복\n",
    "        for filename in os.listdir(label_folder_path):\n",
    "            file_path = os.path.join(label_folder_path, filename)\n",
    "\n",
    "            # 파일이 실제로 파일이고 이미지 파일인 경우\n",
    "            if os.path.isfile(file_path) and filename.lower().endswith(('.png', '.jpg', '.jpeg', '.gif')):\n",
    "                # 폴더 이름을 라벨로 사용하여 파일 이름 변경\n",
    "                new_filename = f'{label_folder}_{filename}'\n",
    "                new_file_path = os.path.join(output_dir, new_filename)\n",
    "                # 파일 이동\n",
    "                os.rename(file_path, new_file_path)"
   ]
  },
  {
   "cell_type": "markdown",
   "id": "2b9bb122",
   "metadata": {},
   "source": [
    "## 디렉토리에 있는 파일 가져오기 "
   ]
  },
  {
   "cell_type": "code",
   "execution_count": null,
   "id": "79d9bf0d",
   "metadata": {
    "scrolled": true
   },
   "outputs": [],
   "source": [
    "import os\n",
    "\n",
    "def get_image_paths(data_dir):\n",
    "    image_list = []\n",
    "\n",
    "    # data 폴더 내의 모든 파일에 대해 반복\n",
    "    for filename in os.listdir(data_dir):\n",
    "        file_path = os.path.join(data_dir, filename)\n",
    "\n",
    "        # 파일이 실제로 파일이고 이미지 파일인 경우\n",
    "        if os.path.isfile(file_path) and filename.lower().endswith(('.png', '.jpg', '.jpeg', '.gif')):\n",
    "            image_list.append(file_path)\n",
    "\n",
    "    return image_list"
   ]
  },
  {
   "cell_type": "code",
   "execution_count": null,
   "id": "81bd13b4",
   "metadata": {
    "scrolled": true
   },
   "outputs": [],
   "source": [
    "data_dir = './clean_rating_data'\n",
    "images = get_image_paths(data_dir)\n",
    "\n",
    "# 15장만 테스트\n",
    "images = images[:15]"
   ]
  },
  {
   "cell_type": "markdown",
   "id": "3d38f112",
   "metadata": {},
   "source": [
    "## 청결도 예측하기 "
   ]
  },
  {
   "cell_type": "code",
   "execution_count": null,
   "id": "d6837397",
   "metadata": {},
   "outputs": [],
   "source": [
    "# true 라벨값 불러오기 \n",
    "import os\n",
    "\n",
    "def label_to_number(label):\n",
    "    label_mapping = {'pending': 0, 'clean': 1, 'normal': 2, 'dirty': 3}\n",
    "    return label_mapping.get(label, -1)\n",
    "\n",
    "def process_files_with_labels(image_list):\n",
    "    y_true = []\n",
    "    \n",
    "    # 파일마다 반복\n",
    "    for file_path in image_list:\n",
    "        \n",
    "        # 파일 이름을 공백을 기준으로 분리하여 라벨 추출\n",
    "        filename = file_path.split('\\\\')[1].lower()\n",
    "        label = filename.split('_')[0].lower()\n",
    "        \n",
    "        # 라벨을 숫자로 변환\n",
    "        label_number = label_to_number(label)\n",
    "        y_true.append(label_number)\n",
    "        \n",
    "    return y_true\n",
    "    \n",
    "# 함수 호출\n",
    "y_true = process_files_with_labels(images)"
   ]
  },
  {
   "cell_type": "code",
   "execution_count": null,
   "id": "39dce6e9",
   "metadata": {},
   "outputs": [],
   "source": [
    "config_file = '../mmdetection/configs/dino/dino-4scale_r50_8xb2-60e_coco_all_v2.py'\n",
    "checkpoint_file = './model/weights/mmdetection_dino_weights.pth'\n",
    "yolov8_checkpoint_file = './model/weights/yolov8_weights.pt'"
   ]
  },
  {
   "cell_type": "code",
   "execution_count": null,
   "id": "98969902",
   "metadata": {},
   "outputs": [],
   "source": [
    "# # 파일 열기 (읽기 모드)\n",
    "# with open('y_pred.txt', 'r') as file:\n",
    "#     # 파일의 각 줄을 읽어와 리스트에 저장\n",
    "#     y_preds = [int(line.strip()) for line in file]"
   ]
  },
  {
   "cell_type": "code",
   "execution_count": null,
   "id": "868eaa74",
   "metadata": {},
   "outputs": [],
   "source": [
    "y_preds=[]"
   ]
  },
  {
   "cell_type": "code",
   "execution_count": null,
   "id": "0e2ce280",
   "metadata": {
    "scrolled": true
   },
   "outputs": [],
   "source": [
    "# mmdetection , yolo , ensemble\n",
    "from inference.predict_list import mmdetection_list_predict\n",
    "from inference.predict_list import yolov8_list_predict\n",
    "from inference.predict_list import ensemble_list_predict\n",
    "from inference.clean_rating import determine_clean_class\n",
    "\n",
    "for idx in range(0, len(images), 10):\n",
    "    end_idx = min(idx + 10, len(images))  # Ensure not to exceed the length of the images list\n",
    "    mmdetection_predictions = mmdetection_list_predict(images[idx:end_idx], config_file, checkpoint_file)\n",
    "    yolov8_predictions = yolov8_list_predict(images[idx:end_idx], yolov8_checkpoint_file)\n",
    "    wbf_predictions = ensemble_list_predict(mmdetection_predictions, yolov8_predictions)\n",
    "    y_pred = []     \n",
    "    for wbf_prediction in wbf_predictions:\n",
    "        y_pred.append(determine_clean_class(wbf_prediction))\n",
    "    y_preds.extend(y_pred)\n",
    "    print(f\"---------------Iteration {idx}: Processed images {end_idx} / {len(images)}---------------\")"
   ]
  },
  {
   "cell_type": "code",
   "execution_count": null,
   "id": "cb60c713",
   "metadata": {},
   "outputs": [],
   "source": [
    "# 중간에 멈췄을 때 파일 저장하고 불러오는 코드 \n",
    "# 파일 열기 (쓰기 모드)\n",
    "# with open('y_preds.txt', 'w') as file:\n",
    "#     # 리스트의 각 항목을 파일에 쓰기\n",
    "#     for item in y_preds:\n",
    "#         file.write(str(item) + '\\n')\n",
    "\n",
    "# # 파일 열기 (읽기 모드)\n",
    "# with open('y_pred.txt', 'r') as file:\n",
    "#     # 파일의 각 줄을 읽어와 리스트에 저장\n",
    "#     y_preds = [int(line.strip()) for line in file]"
   ]
  },
  {
   "cell_type": "code",
   "execution_count": null,
   "id": "ba1796f6",
   "metadata": {
    "scrolled": true
   },
   "outputs": [],
   "source": [
    "print(len(y_preds))"
   ]
  },
  {
   "cell_type": "code",
   "execution_count": null,
   "id": "16c4baf7",
   "metadata": {},
   "outputs": [],
   "source": [
    "len(y_true)"
   ]
  },
  {
   "cell_type": "markdown",
   "id": "5fee0070",
   "metadata": {},
   "source": [
    "## 평가하기"
   ]
  },
  {
   "cell_type": "code",
   "execution_count": null,
   "id": "236f0129",
   "metadata": {
    "scrolled": false
   },
   "outputs": [],
   "source": [
    "from inference.evaluate import print_confusion_matrix, evaluate_classifier\n",
    "evaluate_classifier(y_true, y_preds)"
   ]
  },
  {
   "cell_type": "code",
   "execution_count": null,
   "id": "85247a92",
   "metadata": {},
   "outputs": [],
   "source": [
    "print_confusion_matrix(y_true, y_preds)"
   ]
  }
 ],
 "metadata": {
  "kernelspec": {
   "display_name": "Python 3 (ipykernel)",
   "language": "python",
   "name": "python3"
  },
  "language_info": {
   "codemirror_mode": {
    "name": "ipython",
    "version": 3
   },
   "file_extension": ".py",
   "mimetype": "text/x-python",
   "name": "python",
   "nbconvert_exporter": "python",
   "pygments_lexer": "ipython3",
   "version": "3.9.7"
  }
 },
 "nbformat": 4,
 "nbformat_minor": 5
}
